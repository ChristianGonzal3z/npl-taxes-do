{
  "nbformat": 4,
  "nbformat_minor": 0,
  "metadata": {
    "colab": {
      "provenance": []
    },
    "kernelspec": {
      "name": "python3",
      "display_name": "Python 3"
    },
    "language_info": {
      "name": "python"
    }
  },
  "cells": [
    {
      "cell_type": "code",
      "execution_count": null,
      "metadata": {
        "id": "ONGbOP2HnyJQ"
      },
      "outputs": [],
      "source": [
        "!pip install -q pandas scikit-learn gradio qrcode"
      ]
    },
    {
      "cell_type": "code",
      "source": [
        "import gradio as gr\n",
        "import pandas as pd\n",
        "import os\n",
        "\n",
        "# Ruta al archivo CSV\n",
        "csv_file = 'dataset.csv'\n",
        "\n",
        "# Verificar si el archivo CSV ya existe, si no, crearlo\n",
        "if not os.path.isfile(csv_file):\n",
        "    df = pd.DataFrame(columns=['Preguntas', 'Respuestas'])\n",
        "    df.to_csv(csv_file, index=False)\n",
        "else:\n",
        "    df = pd.read_csv(csv_file)\n",
        "\n",
        "# Función que será llamada cuando se introduzcan datos en la interfaz\n",
        "def add_to_csv(pregunta, respuesta\"):\n",
        "    # Añadir la nueva entrada al DataFrame\n",
        "    new_data = {'Pregunta': pregunta, 'Respuesta': respuesta}\n",
        "    df.loc[len(df)] = new_data\n",
        "\n",
        "    # Guardar en el archivo CSV\n",
        "    df.to_csv(csv_file, index=False)\n",
        "\n",
        "    return \"Guardado con éxito!\"\n",
        "\n",
        "# Crear la interfaz de Gradio\n",
        "iface = gr.Interface(\n",
        "    fn=add_to_csv,\n",
        "    inputs=[\"text\", \"text\"],\n",
        "    outputs=\"text\",\n",
        "    title=\"Almacenamiento de Preguntas y Respuestas\",\n",
        "    description=\"Introduce una pregunta y su respuesta para almacenarlas en un archivo CSV.\"\n",
        ")\n",
        "\n",
        "# Lanzar la interfaz\n",
        "iface.launch()\n"
      ],
      "metadata": {
        "colab": {
          "base_uri": "https://localhost:8080/",
          "height": 144
        },
        "id": "wzBKTBj0x7v6",
        "outputId": "5d7f08b5-e3f5-400d-d0dd-7629a7284529"
      },
      "execution_count": 9,
      "outputs": [
        {
          "output_type": "error",
          "ename": "SyntaxError",
          "evalue": "ignored",
          "traceback": [
            "\u001b[0;36m  File \u001b[0;32m\"<ipython-input-9-b18fc54514cb>\"\u001b[0;36m, line \u001b[0;32m16\u001b[0m\n\u001b[0;31m    def add_to_csv(pregunta \"respuesta\"):\u001b[0m\n\u001b[0m                            ^\u001b[0m\n\u001b[0;31mSyntaxError\u001b[0m\u001b[0;31m:\u001b[0m invalid syntax\n"
          ]
        }
      ]
    },
    {
      "cell_type": "code",
      "source": [
        "import pandas as pd\n",
        "from sklearn.model_selection import train_test_split\n",
        "from sklearn.feature_extraction.text import TfidfVectorizer\n",
        "from sklearn.naive_bayes import MultinomialNB\n",
        "from sklearn.metrics import accuracy_score, classification_report\n",
        "from sklearn.pipeline import make_pipeline\n",
        "\n",
        "# Cargar los datos desde un archivo CSV\n",
        "df = pd.read_csv('dataset.csv')  # Reemplaza con el nombre de tu archivo\n",
        "\n",
        "# Asumiendo que las columnas se llaman 'Pregunta' y 'Respuesta'\n",
        "X = df['Preguntas']\n",
        "y = df['Respuestas']\n",
        "\n",
        "# Dividir los datos en entrenamiento y prueba\n",
        "X_train, X_test, y_train, y_test = train_test_split(X, y, test_size=0.2, random_state=42)\n",
        "\n",
        "# Crear un pipeline que incluye la vectorización y el clasificador\n",
        "model = make_pipeline(TfidfVectorizer(), MultinomialNB())\n",
        "\n",
        "# Entrenar el modelo\n",
        "model.fit(X_train, y_train)\n",
        "\n",
        "# Predecir en el conjunto de prueba\n",
        "y_pred = model.predict(X_test)\n",
        "\n",
        "# Evaluar el modelo\n",
        "print(\"Precisión:\", accuracy_score(y_test, y_pred))\n",
        "print(\"\\nReporte de Clasificación:\\n\", classification_report(y_test, y_pred))\n"
      ],
      "metadata": {
        "id": "GtCOBCAkn0oM"
      },
      "execution_count": null,
      "outputs": []
    },
    {
      "cell_type": "code",
      "source": [
        "import gradio as gr\n",
        "import pandas as pd\n",
        "from sklearn.model_selection import train_test_split\n",
        "from sklearn.feature_extraction.text import TfidfVectorizer\n",
        "from sklearn.naive_bayes import MultinomialNB\n",
        "from sklearn.pipeline import make_pipeline\n",
        "\n",
        "# Cargar datos\n",
        "df = pd.read_csv('dataset.csv')\n",
        "X = df['Preguntas']\n",
        "y = df['Respuestas']\n",
        "\n",
        "# Crear y entrenar el modelo\n",
        "X_train, X_test, y_train, y_test = train_test_split(X, y, test_size=0.2, random_state=42)\n",
        "model = make_pipeline(TfidfVectorizer(), MultinomialNB())\n",
        "model.fit(X_train, y_train)\n",
        "\n",
        "# Función para la interfaz de Gradio\n",
        "def predict_question(question):\n",
        "    prediction = model.predict([question])\n",
        "    return prediction[0]\n",
        "\n",
        "# Crear la interfaz de Gradio\n",
        "iface = gr.Interface(fn=predict_question, inputs=\"text\", outputs=\"text\")\n",
        "\n",
        "# Lanzar la interfaz\n",
        "iface.launch()\n"
      ],
      "metadata": {
        "id": "DkP14gZOoeYd",
        "colab": {
          "base_uri": "https://localhost:8080/",
          "height": 650
        },
        "outputId": "206e4cc2-53d9-4426-83a6-6dc1aa1c398d"
      },
      "execution_count": 4,
      "outputs": [
        {
          "output_type": "stream",
          "name": "stdout",
          "text": [
            "Setting queue=True in a Colab notebook requires sharing enabled. Setting `share=True` (you can turn this off by setting `share=False` in `launch()` explicitly).\n",
            "\n",
            "Colab notebook detected. To show errors in colab notebook, set debug=True in launch()\n",
            "Running on public URL: https://186f53848be4af18a4.gradio.live\n",
            "\n",
            "This share link expires in 72 hours. For free permanent hosting and GPU upgrades, run `gradio deploy` from Terminal to deploy to Spaces (https://huggingface.co/spaces)\n"
          ]
        },
        {
          "output_type": "display_data",
          "data": {
            "text/plain": [
              "<IPython.core.display.HTML object>"
            ],
            "text/html": [
              "<div><iframe src=\"https://186f53848be4af18a4.gradio.live\" width=\"100%\" height=\"500\" allow=\"autoplay; camera; microphone; clipboard-read; clipboard-write;\" frameborder=\"0\" allowfullscreen></iframe></div>"
            ]
          },
          "metadata": {}
        },
        {
          "output_type": "execute_result",
          "data": {
            "text/plain": []
          },
          "metadata": {},
          "execution_count": 4
        }
      ]
    },
    {
      "cell_type": "code",
      "source": [
        "import qrcode\n",
        "\n",
        "def url_to_qr_code(url):\n",
        "\n",
        "    # Create a QR code instance\n",
        "    qr = qrcode.QRCode(\n",
        "        version=1,\n",
        "        error_correction=qrcode.constants.ERROR_CORRECT_L,\n",
        "        box_size=10,\n",
        "        border=4,\n",
        "    )\n",
        "\n",
        "    # Add the URL to the QR code\n",
        "    qr.add_data(url)\n",
        "    qr.make(fit=True)\n",
        "\n",
        "    # Create an image from the QR code\n",
        "    img = qr.make_image(fill_color=\"black\", back_color=\"white\")\n",
        "\n",
        "    # Save the image to a file (optional)\n",
        "    img_path = \"qr_code.png\"\n",
        "    img.save(img_path)\n",
        "\n",
        "    return img_path\n",
        "\n",
        "# Example usage\n",
        "url = \"https://186f53848be4af18a4.gradio.live/\"\n",
        "qr_code_image_path = url_to_qr_code(url)\n",
        "print(f\"QR Code generated and saved as {qr_code_image_path}\")\n"
      ],
      "metadata": {
        "colab": {
          "base_uri": "https://localhost:8080/"
        },
        "id": "EE51ue0fnahP",
        "outputId": "c3a8279f-6844-457a-fd58-b268e99c6b23"
      },
      "execution_count": 7,
      "outputs": [
        {
          "output_type": "stream",
          "name": "stdout",
          "text": [
            "QR Code generated and saved as qr_code.png\n"
          ]
        }
      ]
    }
  ]
}
