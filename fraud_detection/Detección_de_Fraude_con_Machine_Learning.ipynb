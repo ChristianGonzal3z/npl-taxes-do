{
  "cells": [
    {
      "cell_type": "code",
      "execution_count": null,
      "metadata": {
        "id": "kdBbSF3FjGoD"
      },
      "outputs": [],
      "source": [
        "!pip install pandas numpy matplotlib scikit-learn xgboost"
      ]
    },
    {
      "cell_type": "code",
      "execution_count": 8,
      "metadata": {
        "colab": {
          "base_uri": "https://localhost:8080/",
          "height": 1000
        },
        "id": "Rzlah65Gi_IJ",
        "outputId": "418a1ae7-8a7a-430b-9702-4f68c8310206"
      },
      "outputs": [
        {
          "name": "stdout",
          "output_type": "stream",
          "text": [
            "                Time            V1            V2            V3            V4  \\\n",
            "count  284807.000000  2.848070e+05  2.848070e+05  2.848070e+05  2.848070e+05   \n",
            "mean    94813.859575  1.168375e-15  3.416908e-16 -1.379537e-15  2.074095e-15   \n",
            "std     47488.145955  1.958696e+00  1.651309e+00  1.516255e+00  1.415869e+00   \n",
            "min         0.000000 -5.640751e+01 -7.271573e+01 -4.832559e+01 -5.683171e+00   \n",
            "25%     54201.500000 -9.203734e-01 -5.985499e-01 -8.903648e-01 -8.486401e-01   \n",
            "50%     84692.000000  1.810880e-02  6.548556e-02  1.798463e-01 -1.984653e-02   \n",
            "75%    139320.500000  1.315642e+00  8.037239e-01  1.027196e+00  7.433413e-01   \n",
            "max    172792.000000  2.454930e+00  2.205773e+01  9.382558e+00  1.687534e+01   \n",
            "\n",
            "                 V5            V6            V7            V8            V9  \\\n",
            "count  2.848070e+05  2.848070e+05  2.848070e+05  2.848070e+05  2.848070e+05   \n",
            "mean   9.604066e-16  1.487313e-15 -5.556467e-16  1.213481e-16 -2.406331e-15   \n",
            "std    1.380247e+00  1.332271e+00  1.237094e+00  1.194353e+00  1.098632e+00   \n",
            "min   -1.137433e+02 -2.616051e+01 -4.355724e+01 -7.321672e+01 -1.343407e+01   \n",
            "25%   -6.915971e-01 -7.682956e-01 -5.540759e-01 -2.086297e-01 -6.430976e-01   \n",
            "50%   -5.433583e-02 -2.741871e-01  4.010308e-02  2.235804e-02 -5.142873e-02   \n",
            "75%    6.119264e-01  3.985649e-01  5.704361e-01  3.273459e-01  5.971390e-01   \n",
            "max    3.480167e+01  7.330163e+01  1.205895e+02  2.000721e+01  1.559499e+01   \n",
            "\n",
            "       ...           V21           V22           V23           V24  \\\n",
            "count  ...  2.848070e+05  2.848070e+05  2.848070e+05  2.848070e+05   \n",
            "mean   ...  1.654067e-16 -3.568593e-16  2.578648e-16  4.473266e-15   \n",
            "std    ...  7.345240e-01  7.257016e-01  6.244603e-01  6.056471e-01   \n",
            "min    ... -3.483038e+01 -1.093314e+01 -4.480774e+01 -2.836627e+00   \n",
            "25%    ... -2.283949e-01 -5.423504e-01 -1.618463e-01 -3.545861e-01   \n",
            "50%    ... -2.945017e-02  6.781943e-03 -1.119293e-02  4.097606e-02   \n",
            "75%    ...  1.863772e-01  5.285536e-01  1.476421e-01  4.395266e-01   \n",
            "max    ...  2.720284e+01  1.050309e+01  2.252841e+01  4.584549e+00   \n",
            "\n",
            "                V25           V26           V27           V28         Amount  \\\n",
            "count  2.848070e+05  2.848070e+05  2.848070e+05  2.848070e+05  284807.000000   \n",
            "mean   5.340915e-16  1.683437e-15 -3.660091e-16 -1.227390e-16      88.349619   \n",
            "std    5.212781e-01  4.822270e-01  4.036325e-01  3.300833e-01     250.120109   \n",
            "min   -1.029540e+01 -2.604551e+00 -2.256568e+01 -1.543008e+01       0.000000   \n",
            "25%   -3.171451e-01 -3.269839e-01 -7.083953e-02 -5.295979e-02       5.600000   \n",
            "50%    1.659350e-02 -5.213911e-02  1.342146e-03  1.124383e-02      22.000000   \n",
            "75%    3.507156e-01  2.409522e-01  9.104512e-02  7.827995e-02      77.165000   \n",
            "max    7.519589e+00  3.517346e+00  3.161220e+01  3.384781e+01   25691.160000   \n",
            "\n",
            "               Class  \n",
            "count  284807.000000  \n",
            "mean        0.001727  \n",
            "std         0.041527  \n",
            "min         0.000000  \n",
            "25%         0.000000  \n",
            "50%         0.000000  \n",
            "75%         0.000000  \n",
            "max         1.000000  \n",
            "\n",
            "[8 rows x 31 columns]\n",
            "<class 'pandas.core.frame.DataFrame'>\n",
            "RangeIndex: 284807 entries, 0 to 284806\n",
            "Data columns (total 31 columns):\n",
            " #   Column  Non-Null Count   Dtype  \n",
            "---  ------  --------------   -----  \n",
            " 0   Time    284807 non-null  float64\n",
            " 1   V1      284807 non-null  float64\n",
            " 2   V2      284807 non-null  float64\n",
            " 3   V3      284807 non-null  float64\n",
            " 4   V4      284807 non-null  float64\n",
            " 5   V5      284807 non-null  float64\n",
            " 6   V6      284807 non-null  float64\n",
            " 7   V7      284807 non-null  float64\n",
            " 8   V8      284807 non-null  float64\n",
            " 9   V9      284807 non-null  float64\n",
            " 10  V10     284807 non-null  float64\n",
            " 11  V11     284807 non-null  float64\n",
            " 12  V12     284807 non-null  float64\n",
            " 13  V13     284807 non-null  float64\n",
            " 14  V14     284807 non-null  float64\n",
            " 15  V15     284807 non-null  float64\n",
            " 16  V16     284807 non-null  float64\n",
            " 17  V17     284807 non-null  float64\n",
            " 18  V18     284807 non-null  float64\n",
            " 19  V19     284807 non-null  float64\n",
            " 20  V20     284807 non-null  float64\n",
            " 21  V21     284807 non-null  float64\n",
            " 22  V22     284807 non-null  float64\n",
            " 23  V23     284807 non-null  float64\n",
            " 24  V24     284807 non-null  float64\n",
            " 25  V25     284807 non-null  float64\n",
            " 26  V26     284807 non-null  float64\n",
            " 27  V27     284807 non-null  float64\n",
            " 28  V28     284807 non-null  float64\n",
            " 29  Amount  284807 non-null  float64\n",
            " 30  Class   284807 non-null  int64  \n",
            "dtypes: float64(30), int64(1)\n",
            "memory usage: 67.4 MB\n",
            "None\n"
          ]
        },
        {
          "data": {
            "image/png": "[encoded data removed]",
            "text/plain": [
              "<Figure size 800x600 with 1 Axes>"
            ]
          },
          "metadata": {},
          "output_type": "display_data"
        },
        {
          "name": "stdout",
          "output_type": "stream",
          "text": [
            "              precision    recall  f1-score   support\n",
            "\n",
            "           0       1.00      1.00      1.00     56864\n",
            "           1       0.91      0.85      0.88        98\n",
            "\n",
            "    accuracy                           1.00     56962\n",
            "   macro avg       0.96      0.92      0.94     56962\n",
            "weighted avg       1.00      1.00      1.00     56962\n",
            "\n",
            "Matriz de Confusión:\n",
            " [[56856     8]\n",
            " [   15    83]]\n",
            "Precisión del Modelo: 0.9995962220427653\n"
          ]
        }
      ],
      "source": [
        "# Importando las bibliotecas necesarias\n",
        "import pandas as pd\n",
        "import numpy as np\n",
        "from joblib import dump\n",
        "import matplotlib.pyplot as plt\n",
        "import seaborn as sns\n",
        "from sklearn.model_selection import train_test_split\n",
        "from sklearn.preprocessing import StandardScaler\n",
        "from sklearn.ensemble import RandomForestClassifier\n",
        "from sklearn.metrics import classification_report, confusion_matrix, accuracy_score\n",
        "from imblearn.over_sampling import SMOTE\n",
        "from xgboost import XGBClassifier\n",
        "\n",
        "\n",
        "# Función para cargar y preprocesar los datos\n",
        "def cargar_datos(ruta_archivo): # Reemplazar con la ruta real del dataset (si es necesario)\n",
        "    datos = pd.read_csv(ruta_archivo) # Reemplazar con la ruta real del dataset (si es necesario)\n",
        "    # Preprocesamiento adicional aquí (si es necesario)\n",
        "    return datos\n",
        "\n",
        "# Análisis Exploratorio de Datos\n",
        "def analisis_exploratorio(datos): \n",
        "    print(datos.describe())\n",
        "    print(datos.info())\n",
        "\n",
        "    # Visualización de la distribución de las clases (fraude vs no fraude)\n",
        "    plt.figure(figsize=(8, 6)) # Tamaño de la figura\n",
        "    sns.countplot(x='Class', data=datos)  # Suponiendo que 'Class' es la columna objetivo\n",
        "    plt.title('Distribución de Clases (0: No Fraude, 1: Fraude)')\n",
        "    plt.show()\n",
        "\n",
        "# Preparación de los datos\n",
        "def preparar_datos_para_modelo(datos):\n",
        "    X = datos.drop('Class', axis=1)  # 'Class' es la columna objetivo\n",
        "    y = datos['Class']\n",
        "\n",
        "    X_train, X_test, y_train, y_test = train_test_split(X, y, test_size=0.2, random_state=42)\n",
        "\n",
        "    scaler = StandardScaler()\n",
        "    X_train = scaler.fit_transform(X_train)\n",
        "    X_test = scaler.transform(X_test)\n",
        "\n",
        "    return X_train, X_test, y_train, y_test\n",
        "\n",
        "# Manejo del desequilibrio de clases con SMOTE\n",
        "def aplicar_smote(X_train, y_train):\n",
        "    smote = SMOTE(random_state=42)\n",
        "    X_train_smote, y_train_smote = smote.fit_resample(X_train, y_train)\n",
        "    return X_train_smote, y_train_smote\n",
        "\n",
        "# Entrenando el modelo\n",
        "def entrenar_modelo(X_train, y_train):\n",
        "    modelo = RandomForestClassifier(random_state=42)\n",
        "    modelo.fit(X_train, y_train)\n",
        "    dump(modelo, 'fraud_detection_model.joblib')  # Save the model\n",
        "    return modelo\n",
        "\n",
        "# Evaluación del modelo\n",
        "def evaluar_modelo(modelo, X_test, y_test):\n",
        "    predicciones = modelo.predict(X_test)\n",
        "    print(classification_report(y_test, predicciones))\n",
        "    print(\"Matriz de Confusión:\\n\", confusion_matrix(y_test, predicciones))\n",
        "    print(\"Precisión del Modelo:\", accuracy_score(y_test, predicciones))\n",
        "\n",
        "# Función principal\n",
        "def main():\n",
        "    ruta_archivo = '/content/creditcard.csv'  # Reemplazar con la ruta real del dataset (si es necesario)\n",
        "    datos = cargar_datos(ruta_archivo) # cargar los datos desde el archivo CSV\n",
        "    analisis_exploratorio(datos) # realizar un análisis exploratorio de los datos\n",
        "    X_train, X_test, y_train, y_test = preparar_datos_para_modelo(datos) # preparar los datos para el modelo\n",
        "    X_train_smote, y_train_smote = aplicar_smote(X_train, y_train) # aplicar SMOTE para manejar el desequilibrio de clases\n",
        "    modelo = entrenar_modelo(X_train_smote, y_train_smote) # entrenar el modelo\n",
        "    evaluar_modelo(modelo, X_test, y_test) # evaluar el modelo\n",
        "\n",
        "if __name__ == \"__main__\": # ejecutar el programa principal (main) si se ejecuta este archivo directamente (no se importa como módulo) \n",
        "    main()\n"
      ]
    },
    {
      "cell_type": "code",
      "execution_count": 9,
      "metadata": {
        "id": "i4_qVhpGZqvN"
      },
      "outputs": [],
      "source": [
        "from joblib import dump\n",
        "\n",
        "def entrenar_modelo(X_train, y_train):\n",
        "    modelo = RandomForestClassifier(random_state=42)\n",
        "    modelo.fit(X_train, y_train)\n",
        "    dump(modelo, '/content/fraud_detection_model.joblib')  # Save the model\n",
        "    return modelo\n"
      ]
    },
    {
      "cell_type": "code",
      "execution_count": 22,
      "metadata": {
        "id": "J3tKb-qRn4YH"
      },
      "outputs": [],
      "source": [
        "!pip install -q huggingface_hub"
      ]
    },
    {
      "cell_type": "code",
      "execution_count": 28,
      "metadata": {
        "colab": {
          "base_uri": "https://localhost:8080/",
          "height": 1000
        },
        "id": "UJVDRgk5aDyN",
        "outputId": "41539408-e592-4573-f54f-43d49db22770"
      },
      "outputs": [
        {
          "name": "stdout",
          "output_type": "stream",
          "text": [
            "Setting queue=True in a Colab notebook requires sharing enabled. Setting `share=True` (you can turn this off by setting `share=False` in `launch()` explicitly).\n",
            "\n",
            "Colab notebook detected. This cell will run indefinitely so that you can see errors and logs. To turn off, set debug=False in launch().\n",
            "Running on public URL: https://05971a75a611582af6.gradio.live\n",
            "\n",
            "This share link expires in 72 hours. For free permanent hosting and GPU upgrades, run `gradio deploy` from Terminal to deploy to Spaces (https://huggingface.co/spaces)\n"
          ]
        },
        {
          "data": {
            "text/html": [
              "<div><iframe src=\"https://05971a75a611582af6.gradio.live\" width=\"100%\" height=\"500\" allow=\"autoplay; camera; microphone; clipboard-read; clipboard-write;\" frameborder=\"0\" allowfullscreen></iframe></div>"
            ],
            "text/plain": [
              "<IPython.core.display.HTML object>"
            ]
          },
          "metadata": {},
          "output_type": "display_data"
        },
        {
          "name": "stderr",
          "output_type": "stream",
          "text": [
            "Traceback (most recent call last):\n",
            "  File \"/usr/local/lib/python3.10/dist-packages/gradio/queueing.py\", line 422, in call_prediction\n",
            "    async def call_prediction(self, events: list[Event], batch: bool):\n",
            "  File \"/usr/local/lib/python3.10/dist-packages/gradio/route_utils.py\", line 232, in call_process_api\n",
            "    output = await app.get_blocks().process_api(\n",
            "  File \"/usr/local/lib/python3.10/dist-packages/gradio/blocks.py\", line 1482, in process_api\n",
            "    batch_sizes = [len(inp) for inp in inputs]\n",
            "  File \"/usr/local/lib/python3.10/dist-packages/gradio/blocks.py\", line 1109, in call_function\n",
            "    event_data: data associated with event trigger\n",
            "  File \"/usr/local/lib/python3.10/dist-packages/anyio/to_thread.py\", line 33, in run_sync\n",
            "    return await get_asynclib().run_sync_in_worker_thread(\n",
            "  File \"/usr/local/lib/python3.10/dist-packages/anyio/_backends/_asyncio.py\", line 877, in run_sync_in_worker_thread\n",
            "    return await future\n",
            "  File \"/usr/local/lib/python3.10/dist-packages/anyio/_backends/_asyncio.py\", line 807, in run\n",
            "    result = context.run(func, *args)\n",
            "  File \"/usr/local/lib/python3.10/dist-packages/gradio/utils.py\", line 665, in wrapper\n",
            "  File \"<ipython-input-28-c4cb3e5d6d59>\", line 21, in predict_fraud\n",
            "    prediction = modelo.predict(scaled_data)\n",
            "  File \"/usr/local/lib/python3.10/dist-packages/sklearn/ensemble/_forest.py\", line 820, in predict\n",
            "    proba = self.predict_proba(X)\n",
            "  File \"/usr/local/lib/python3.10/dist-packages/sklearn/ensemble/_forest.py\", line 862, in predict_proba\n",
            "    X = self._validate_X_predict(X)\n",
            "  File \"/usr/local/lib/python3.10/dist-packages/sklearn/ensemble/_forest.py\", line 602, in _validate_X_predict\n",
            "    X = self._validate_data(X, dtype=DTYPE, accept_sparse=\"csr\", reset=False)\n",
            "  File \"/usr/local/lib/python3.10/dist-packages/sklearn/base.py\", line 588, in _validate_data\n",
            "    self._check_n_features(X, reset=reset)\n",
            "  File \"/usr/local/lib/python3.10/dist-packages/sklearn/base.py\", line 389, in _check_n_features\n",
            "    raise ValueError(\n",
            "ValueError: X has 3 features, but RandomForestClassifier is expecting 30 features as input.\n",
            "Traceback (most recent call last):\n",
            "  File \"/usr/local/lib/python3.10/dist-packages/gradio/queueing.py\", line 422, in call_prediction\n",
            "    async def call_prediction(self, events: list[Event], batch: bool):\n",
            "  File \"/usr/local/lib/python3.10/dist-packages/gradio/route_utils.py\", line 232, in call_process_api\n",
            "    output = await app.get_blocks().process_api(\n",
            "  File \"/usr/local/lib/python3.10/dist-packages/gradio/blocks.py\", line 1482, in process_api\n",
            "    batch_sizes = [len(inp) for inp in inputs]\n",
            "  File \"/usr/local/lib/python3.10/dist-packages/gradio/blocks.py\", line 1109, in call_function\n",
            "    event_data: data associated with event trigger\n",
            "  File \"/usr/local/lib/python3.10/dist-packages/anyio/to_thread.py\", line 33, in run_sync\n",
            "    return await get_asynclib().run_sync_in_worker_thread(\n",
            "  File \"/usr/local/lib/python3.10/dist-packages/anyio/_backends/_asyncio.py\", line 877, in run_sync_in_worker_thread\n",
            "    return await future\n",
            "  File \"/usr/local/lib/python3.10/dist-packages/anyio/_backends/_asyncio.py\", line 807, in run\n",
            "    result = context.run(func, *args)\n",
            "  File \"/usr/local/lib/python3.10/dist-packages/gradio/utils.py\", line 665, in wrapper\n",
            "  File \"<ipython-input-28-c4cb3e5d6d59>\", line 21, in predict_fraud\n",
            "    prediction = modelo.predict(scaled_data)\n",
            "  File \"/usr/local/lib/python3.10/dist-packages/sklearn/ensemble/_forest.py\", line 820, in predict\n",
            "    proba = self.predict_proba(X)\n",
            "  File \"/usr/local/lib/python3.10/dist-packages/sklearn/ensemble/_forest.py\", line 862, in predict_proba\n",
            "    X = self._validate_X_predict(X)\n",
            "  File \"/usr/local/lib/python3.10/dist-packages/sklearn/ensemble/_forest.py\", line 602, in _validate_X_predict\n",
            "    X = self._validate_data(X, dtype=DTYPE, accept_sparse=\"csr\", reset=False)\n",
            "  File \"/usr/local/lib/python3.10/dist-packages/sklearn/base.py\", line 588, in _validate_data\n",
            "    self._check_n_features(X, reset=reset)\n",
            "  File \"/usr/local/lib/python3.10/dist-packages/sklearn/base.py\", line 389, in _check_n_features\n",
            "    raise ValueError(\n",
            "ValueError: X has 3 features, but RandomForestClassifier is expecting 30 features as input.\n",
            "\n",
            "The above exception was the direct cause of the following exception:\n",
            "\n",
            "Traceback (most recent call last):\n",
            "  File \"/usr/local/lib/python3.10/dist-packages/gradio/queueing.py\", line 467, in process_events\n",
            "    # To emulate the HTTP response from the predict API,\n",
            "  File \"/usr/local/lib/python3.10/dist-packages/gradio/queueing.py\", line 431, in call_prediction\n",
            "    pass\n",
            "Exception: None\n"
          ]
        },
        {
          "name": "stdout",
          "output_type": "stream",
          "text": [
            "Keyboard interruption in main thread... closing server.\n",
            "Killing tunnel 127.0.0.1:7862 <> https://05971a75a611582af6.gradio.live\n"
          ]
        },
        {
          "data": {
            "text/plain": []
          },
          "execution_count": 28,
          "metadata": {},
          "output_type": "execute_result"
        }
      ],
      "source": [
        "import gradio as gr\n",
        "import pandas as pd\n",
        "import numpy as np\n",
        "from joblib import load\n",
        "from sklearn.preprocessing import StandardScaler\n",
        "\n",
        "# Load the trained model\n",
        "modelo = load('fraud_detection_model.joblib')\n",
        "\n",
        "# Assuming your model expects a DataFrame with specific columns\n",
        "# Replace these column names with the actual column names of your dataset\n",
        "def predict_fraud(feature1, feature2, feature3):\n",
        "    # Convert input to DataFrame\n",
        "    input_data = pd.DataFrame([[feature1, feature2, feature3]], columns=feature_names)\n",
        "    # Preprocess the data (scaling, etc.)\n",
        "    # Assuming all features need to be scaled. Adjust as necessary.\n",
        "    scaler = StandardScaler()\n",
        "    scaled_data = scaler.fit_transform(input_data)\n",
        "\n",
        "    # Make a prediction\n",
        "    prediction = modelo.predict(scaled_data)\n",
        "    return 'Fraud' if prediction[0] == 1 else 'No Fraud'\n",
        "    return result\n",
        "\n",
        "# Create input fields for each feature\n",
        "inputs = [gr.Number(label=feature_name) for feature_name in feature_names]\n",
        "\n",
        "# Create the Gradio app\n",
        "iface = gr.Interface(\n",
        "    fn=predict_fraud,\n",
        "    inputs=[gr.Number(label=name) for name in feature_names],\n",
        "    outputs=\"text\",\n",
        "    title=\"Fraud Detection Model\",\n",
        "    description=\"Input the feature values to predict fraud\"\n",
        ")\n",
        "\n",
        "iface.launch(debug=True)"
      ]
    }
  ],
  "metadata": {
    "colab": {
      "provenance": []
    },
    "kernelspec": {
      "display_name": "Python 3",
      "name": "python3"
    },
    "language_info": {
      "name": "python"
    }
  },
  "nbformat": 4,
  "nbformat_minor": 0
}
